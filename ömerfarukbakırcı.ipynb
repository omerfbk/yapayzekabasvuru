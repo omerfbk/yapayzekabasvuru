{
 "cells": [
  {
   "cell_type": "markdown",
   "metadata": {},
   "source": [
    "# Soru 1 :\n",
    "Bu soruyu cevaplamak için Python ile Makine Öğrenmesine Giriş Pandas Kütüphanesi yazısını okumanız gerekebilir. Sizden istediğimiz aşağıdaki adresteki veriyi pandas kütüphanesi ile çekip, bazı sütunları silmenizi bekliyoruz.\n",
    "\"https://raw.githubusercontent.com/unforgiventr/Facebook-DataLeak-TextMining/master/avocado.csv\"\n",
    "Bu işlem gerçekleştiğinde, veriyi sadeleştirmiş olacaksınız."
   ]
  },
  {
   "cell_type": "code",
   "execution_count": null,
   "metadata": {},
   "outputs": [],
   "source": [
    "import pandas as pd\n",
    "df = pd.read_csv('https://raw.githubusercontent.com/unforgiventr/Facebook-DataLeak-TextMining/master/avocado.csv')\n",
    "df = df.drop([\"4770\",\"Total Bags\",\"Small Bags\",\"Large Bags\",\"XLarge Bags\",\"type\",\"year\",\"region\",\"Date\"], axis=1)\n",
    "df"
   ]
  },
  {
   "cell_type": "markdown",
   "metadata": {},
   "source": [
    "# Soru 2 :"
   ]
  },
  {
   "cell_type": "markdown",
   "metadata": {},
   "source": [
    "Yukarıda oluşturduğunuz sadeleştirilmiş pandas veri kümesine yeni bir satır girmeni istiyoruz. Girilecek satır verisi kullanıcıdan ınput komutu kullanılarak alınacaktır."
   ]
  },
  {
   "cell_type": "code",
   "execution_count": null,
   "metadata": {},
   "outputs": [],
   "source": [
    "import pandas as pd\n",
    "import numpy as np\n",
    "df = pd.read_csv('https://raw.githubusercontent.com/unforgiventr/Facebook-DataLeak-TextMining/master/avocado.csv')\n",
    "df = df.drop([\"4770\",\"Total Bags\",\"Small Bags\",\"Large Bags\",\"XLarge Bags\",\"type\",\"year\",\"region\",\"Date\"], axis=1)\n",
    "unnamed=0\n",
    "average=input(\"Average Price : \")\n",
    "totalvolume=input(\"Total Volume : \")\n",
    "deger4046=input(\"4046 : \")\n",
    "deger4225=input(\"4225 : \")\n",
    "df=pd.DataFrame(np.insert(df.values, 18249, values=[unnamed,average,totalvolume,deger4046,deger4225], axis=0))\n",
    "df"
   ]
  },
  {
   "cell_type": "markdown",
   "metadata": {},
   "source": [
    "# Soru 3 :"
   ]
  },
  {
   "cell_type": "markdown",
   "metadata": {},
   "source": [
    "Aklınızdan 1 ile N arasında bir sayma sayısı tutup arkadaşlarınızdan bu sayıyı, x∈[1,N], tahmin etmesini istediğinizi düşünelim. N=100 olsun, tuttuğunuz sayı x=3 olsun,\n",
    "\n",
    " - Ahmet, x=1 mi diye soruyor, siz hayır diyorsunuz. Daha sonra 2 mi diye soruyor, hayır diyorsunuz. Yine 1 arttırarak, x=3 mü diye sorduğunda, evet bildin diyorsunuz.\n",
    " - Mehmet, x=50 mi diyor ve hayır diyorsunuz. x>50 mi diye soruyor, hayır diyorsunuz. x=25 mi diyor, hayır diyorsunuz. x>25 mi diye soruyor, hayır diyorsunuz. Yine ikiye bölerek x=12 mi diyor, hayır diyorsunuz. x>12 diye soruyor, hayır diyorsunuz. x=6 mi diyor, hayır diyorsunuz. x>6 mı diyor, hayır diyorsunuz. 3 mü dediğinde nihayet evet bildin diyorsunuz.\n",
    " \n",
    " Farklı N ve x değerleri düşünüldüğünde, kim daha mantıklı sorular sormuştur, nedenini açıklayınız."
   ]
  },
  {
   "cell_type": "markdown",
   "metadata": {},
   "source": [
    "Farklı N ve x değerleri düşünüldüğünde genel olarak Mehmet'in verdiği cevaplar daha mantıklıdır.Çünkü Ahmet olasılık denemelerine en düşük sayıda başlayıp tek tek sorarak ilerlemiştir ama Mehmet herhangi bir sayıda büyük mü diye sorduğunda ve hayır cevabı aldığında olasılık oranını dahah hızlı bir şekide azaltıyor özellikle de N değeri 3 veya daha fazla basamaklı bir sayı ise Ahmetin Mehmet'e göre daha erken bulma şansı çok azdır."
   ]
  },
  {
   "cell_type": "markdown",
   "metadata": {},
   "source": [
    "# Soru 4 :"
   ]
  },
  {
   "cell_type": "markdown",
   "metadata": {},
   "source": [
    "İstatistikçiler büyük bir yatırım yaparak, 1936'daki ABD başkanlık seçiminde, araba sahiplerinin telefon numaralarını içeren bir rehberdeki kişileri telefonla arayıp hangi adayı desteklediklerini tek tek sordular. Kimin kazanacağını tahmin etmek istediler fakat yanıldılar. Burada yanlış yaptıkları şey ne olabilir?"
   ]
  },
  {
   "cell_type": "markdown",
   "metadata": {},
   "source": [
    "Otomobil kullanıcıları o dönemde halkın çoğunluğunu oluşturmuyordu ve otomobillerinin olması onların başka insanları etkilemesi anlamına gelmez. Aynı zamanda istatistiksel bir araştırmada sadece belirli bir kesime (örn: zenginler) soru sorulmaz halkın her kesiminden her bölgesinden ayrım farketmeksizin belli sayıda kişiye sorulur ve bunlar hesaplanır."
   ]
  },
  {
   "cell_type": "markdown",
   "metadata": {},
   "source": [
    "# Soru 5 :"
   ]
  },
  {
   "cell_type": "markdown",
   "metadata": {},
   "source": [
    "a ve b tamsayı olmak üzere, f(a,b)=c olduğunu göstermek için aşağıdaki gibi kare yerleştirme yöntemi kullanılıyorsa buradaki f fonksiyonu nedir?\n"
   ]
  },
  {
   "cell_type": "markdown",
   "metadata": {},
   "source": [
    "Sabit fonksiyon olduğu için her şekilde f(a,b)=1 çıkıyor."
   ]
  },
  {
   "cell_type": "markdown",
   "metadata": {},
   "source": [
    "# Soru 6 :\n"
   ]
  },
  {
   "cell_type": "markdown",
   "metadata": {},
   "source": [
    "Aşağıdaki yapay sinir ağında, w1=w2=0.6 ve Q=1 için mantıksal ve (∧) işlemi elde edilmektedir.Ağın çalışma prensibi şudur, girdi değerleri x1 ve x2 bir g(x1,x2)=x1×w1+x2×w2 fonksiyonuna tabi tutulur. Eğer elde edilen değer Q'dan büyük eşitse y=1 olur, değilse y=0 olur, Kısaca,\n",
    "g(x1,x2)≥Q⇒y=1g(x1,x2)<Q⇒y=0\n",
    "\n",
    "Siz de, w1, w2 ve Q değerlerini değiştirerek mantıksal veya (∨) işlemini gerçekleştiren yapay sinir ağını üretin."
   ]
  },
  {
   "cell_type": "code",
   "execution_count": null,
   "metadata": {},
   "outputs": [],
   "source": [
    "# W1=w2=15 , Q = 15 için : \n",
    "# X1 = 1  X2 = 1  / [X1*10+X2*10] = 30  / [g(X1,X2) >= 10] = 1 / Y = EVET\n",
    "# X1 = 0  X2 = 1  / [X1*10+X2*10] = 15  / [g(X1,X2) >= 15] = 1 / Y = EVET\n",
    "# X1 = 1  X2 = 0  / [X1*10+X2*10] = 15  / [g(X1,X2) >= 15] = 1 / Y = EVET\n",
    "# X1 = 0  X2 = 0  / [X1*10+X2*10] = 0   / [g(X1,X2) >= 15] = 0 / Y = HAYIR\n"
   ]
  },
  {
   "cell_type": "markdown",
   "metadata": {},
   "source": [
    "# Soru 7 :"
   ]
  },
  {
   "cell_type": "markdown",
   "metadata": {},
   "source": [
    "Sizce neden S-eğrisinin dünyadaki en önemli eğridir? Başka nerelerde S-eğrisini gözlemleyebiliriz?"
   ]
  },
  {
   "cell_type": "markdown",
   "metadata": {},
   "source": [
    "Dünyadaki bir çok olayı temsil etmesi ve birçok yerde görülmesi nedeniyle dünyadaki en önemli eğridir.\n",
    "\n",
    "S-eğrisine örnek ;\n",
    "\n",
    "Barajda açılan küçük bir delik olduğunu varsayalım bir süre (5-10 dk ) su yavaş yavaş akar sonra delik aşınmaya başlar ve birden baraj kapağı parçalanır. Su çok hızlı bir şekilde boşalır en son su akışı yavaşlar ve geri kalan su da boşalır. Burada küçük bir delik S eğrisinin başlangıcıdır . Suyun yavaş yavaş akar deliği aşındırması S-eğrisinin katlanarak ilerleme aşamasıdır. S-eğrisinin son aşaması da bu örnekte baraj kapağının parçalanmasıyla başlar ve suyun geri kalanının boşalmasına kadar sürer."
   ]
  },
  {
   "cell_type": "markdown",
   "metadata": {},
   "source": [
    "# Soru 8 : \n",
    "Aşağıdaki basamak fonksiyonu ve üstel fonksiyon görülmektedir. Sizce S-eğrisinin bu fonksiyonlara göre ne gibi avantajları vardır."
   ]
  },
  {
   "cell_type": "markdown",
   "metadata": {},
   "source": [
    "S-eğrisinin basamak fonksiyonuna göre avantajı;\n",
    "S-eğrisinde bir başlangıç süresi vardır örneğin baraj örneğindeki gibi bir olayda erken tespit edebilir, mal ve can kaybını önleyebiliriz. Ama basamak fonksiyonunda hiçbir belirti yoktur belli bir zaman sonra direk baraj kapağı patlar belirti yok, ne olacağını önceden tahmin edemezsiniz ...\n",
    "\n",
    "S-eğrisinin üstel fonksiyona göre avantajları;\n",
    "Üstel fonksiyonun bir sonu yok. Bu birçok alanda dezavantaj sağlar. Örneğin; kimyasal bir reoksiyon başladıktan sonra belirli bir sonuç göremeyiz çünkü reaksiyon bitmez."
   ]
  },
  {
   "cell_type": "markdown",
   "metadata": {},
   "source": [
    "# ÖMER FARUK BAKIRCI"
   ]
  }
 ],
 "metadata": {
  "kernelspec": {
   "display_name": "Python 3",
   "language": "python",
   "name": "python3"
  },
  "language_info": {
   "codemirror_mode": {
    "name": "ipython",
    "version": 3
   },
   "file_extension": ".py",
   "mimetype": "text/x-python",
   "name": "python",
   "nbconvert_exporter": "python",
   "pygments_lexer": "ipython3",
   "version": "3.6.5"
  }
 },
 "nbformat": 4,
 "nbformat_minor": 2
}
